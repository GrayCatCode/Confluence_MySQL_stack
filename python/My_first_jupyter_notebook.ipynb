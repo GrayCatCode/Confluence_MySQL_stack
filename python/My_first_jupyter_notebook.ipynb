{
 "cells": [
  {
   "cell_type": "markdown",
   "id": "1a1bda00",
   "metadata": {},
   "source": [
    "<h1>My First Jupyter Notebook!!</h1>\n",
    "<h2>Python code to read an unstructured text file and format it to publish in Confluence v7.19:</h2>"
   ]
  },
  {
   "cell_type": "code",
   "execution_count": 2,
   "id": "5d8265e9",
   "metadata": {},
   "outputs": [
    {
     "name": "stdout",
     "output_type": "stream",
     "text": [
      "Formatted content saved to Lorem_ipsum_formatted_for_confluence.xml\n"
     ]
    }
   ],
   "source": [
    "import os\n",
    "\n",
    "def read_text_file(file_path):\n",
    "    \"\"\"Reads the content of an unstructured text file.\"\"\"\n",
    "    if not os.path.exists(file_path):\n",
    "        raise FileNotFoundError(f\"The file {file_path} does not exist.\")\n",
    "    \n",
    "    with open(file_path, 'r', encoding='utf-8') as file:\n",
    "        return file.readlines()\n",
    "\n",
    "def format_for_confluence(content):\n",
    "    \"\"\"\n",
    "    Formats the content into Confluence Storage Format.\n",
    "    Assumes sections are separated by blank lines.\n",
    "    \"\"\"\n",
    "    confluence_content = \"<ac:structured-macro ac:name=\\\"section\\\">\\n\"\n",
    "    for line in content:\n",
    "        line = line.strip()\n",
    "        if not line:\n",
    "            # Close the current section and start a new one\n",
    "            confluence_content += \"</ac:structured-macro>\\n<ac:structured-macro ac:name=\\\"section\\\">\\n\"\n",
    "        else:\n",
    "            # Wrap each line in a paragraph tag\n",
    "            confluence_content += f\"<p>{line}</p>\\n\"\n",
    "    confluence_content += \"</ac:structured-macro>\"  # Close the last section\n",
    "    return confluence_content\n",
    "\n",
    "def save_to_file(output_path, content):\n",
    "    \"\"\"Saves the formatted content to a file.\"\"\"\n",
    "    with open(output_path, 'w', encoding='utf-8') as file:\n",
    "        file.write(content)\n",
    "\n",
    "def main():\n",
    "#   input_file = \"unstructured_text.txt\"  # Replace with your input file path\n",
    "    input_file = \"Lorem_ipsum.txt\"  # Replace with your input file path\n",
    "#   output_file = \"formatted_for_confluence.xml\"  # Replace with your desired output file path\n",
    "    output_file = \"Lorem_ipsum_formatted_for_confluence.xml\"  # Replace with your desired output file path\n",
    "\n",
    "    try:\n",
    "        # Read the unstructured text file\n",
    "        content = read_text_file(input_file)\n",
    "        \n",
    "        # Format the content for Confluence\n",
    "        formatted_content = format_for_confluence(content)\n",
    "        \n",
    "        # Save the formatted content to a file\n",
    "        save_to_file(output_file, formatted_content)\n",
    "        \n",
    "        print(f\"Formatted content saved to {output_file}\")\n",
    "    except Exception as e:\n",
    "        print(f\"An error occurred: {e}\")\n",
    "\n",
    "if __name__ == \"__main__\":\n",
    "    main()"
   ]
  }
 ],
 "metadata": {
  "kernelspec": {
   "display_name": ".venv",
   "language": "python",
   "name": "python3"
  },
  "language_info": {
   "codemirror_mode": {
    "name": "ipython",
    "version": 3
   },
   "file_extension": ".py",
   "mimetype": "text/x-python",
   "name": "python",
   "nbconvert_exporter": "python",
   "pygments_lexer": "ipython3",
   "version": "3.13.3"
  }
 },
 "nbformat": 4,
 "nbformat_minor": 5
}
